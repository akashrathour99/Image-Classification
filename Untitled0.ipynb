{
  "nbformat": 4,
  "nbformat_minor": 0,
  "metadata": {
    "colab": {
      "name": "Untitled0.ipynb",
      "provenance": [],
      "toc_visible": true,
      "authorship_tag": "ABX9TyMBFEkLJ+mv8kkzPOeq4s9O",
      "include_colab_link": true
    },
    "kernelspec": {
      "name": "python3",
      "display_name": "Python 3"
    },
    "language_info": {
      "name": "python"
    }
  },
  "cells": [
    {
      "cell_type": "markdown",
      "metadata": {
        "id": "view-in-github",
        "colab_type": "text"
      },
      "source": [
        "<a href=\"https://colab.research.google.com/github/akashrathour99/Image-Classification/blob/main/Untitled0.ipynb\" target=\"_parent\"><img src=\"https://colab.research.google.com/assets/colab-badge.svg\" alt=\"Open In Colab\"/></a>"
      ]
    },
    {
      "cell_type": "code",
      "metadata": {
        "id": "gfWkQuUKOvUH",
        "colab": {
          "base_uri": "https://localhost:8080/"
        },
        "outputId": "8ff43e92-1168-4ba0-e7e5-6995ec66e070"
      },
      "source": [
        "pip install num2words"
      ],
      "execution_count": 2,
      "outputs": [
        {
          "output_type": "stream",
          "name": "stdout",
          "text": [
            "Collecting num2words\n",
            "  Downloading num2words-0.5.10-py3-none-any.whl (101 kB)\n",
            "\u001b[?25l\r\u001b[K     |███▎                            | 10 kB 22.7 MB/s eta 0:00:01\r\u001b[K     |██████▌                         | 20 kB 29.2 MB/s eta 0:00:01\r\u001b[K     |█████████▊                      | 30 kB 35.0 MB/s eta 0:00:01\r\u001b[K     |█████████████                   | 40 kB 30.2 MB/s eta 0:00:01\r\u001b[K     |████████████████▏               | 51 kB 32.5 MB/s eta 0:00:01\r\u001b[K     |███████████████████▍            | 61 kB 24.5 MB/s eta 0:00:01\r\u001b[K     |██████████████████████▋         | 71 kB 21.7 MB/s eta 0:00:01\r\u001b[K     |█████████████████████████▉      | 81 kB 23.0 MB/s eta 0:00:01\r\u001b[K     |█████████████████████████████   | 92 kB 24.9 MB/s eta 0:00:01\r\u001b[K     |████████████████████████████████| 101 kB 9.1 MB/s \n",
            "\u001b[?25hRequirement already satisfied: docopt>=0.6.2 in /usr/local/lib/python3.7/dist-packages (from num2words) (0.6.2)\n",
            "Installing collected packages: num2words\n",
            "Successfully installed num2words-0.5.10\n"
          ]
        }
      ]
    },
    {
      "cell_type": "code",
      "metadata": {
        "id": "mavfUXMxO8pu"
      },
      "source": [
        ""
      ],
      "execution_count": 3,
      "outputs": []
    },
    {
      "cell_type": "code",
      "metadata": {
        "id": "J1fLhhnaPRVV",
        "colab": {
          "base_uri": "https://localhost:8080/"
        },
        "outputId": "820eeca9-4d45-4ec3-e2e4-f5af22adcade"
      },
      "source": [
        "\n",
        "from num2words import num2words\n",
        "ans=0\n",
        "for i in range(9,97):\n",
        "  s=num2words(i)\n",
        "  for j in range(len(s)):\n",
        "    if(ord(s[j])>=97 and ord(s[j])<=122):\n",
        "      ans+=1\n",
        "print(ans)"
      ],
      "execution_count": 5,
      "outputs": [
        {
          "output_type": "stream",
          "name": "stdout",
          "text": [
            "790\n"
          ]
        }
      ]
    },
    {
      "cell_type": "markdown",
      "metadata": {
        "id": "NeTJtpCRPjAR"
      },
      "source": [
        "# New Section"
      ]
    },
    {
      "cell_type": "code",
      "metadata": {
        "id": "t9zNLxsGPoYB",
        "colab": {
          "base_uri": "https://localhost:8080/"
        },
        "outputId": "f5838d9f-412b-456b-8b5f-a62e1ae4912c"
      },
      "source": [
        "ans=0\n",
        "s=num2words(22)\n",
        "for j in range(len(s)):\n",
        "  if(ord(s[j])>=97 and ord(s[j])<=122):\n",
        "    ans+=1\n",
        "print(ans)"
      ],
      "execution_count": 11,
      "outputs": [
        {
          "output_type": "stream",
          "name": "stdout",
          "text": [
            "9\n"
          ]
        }
      ]
    },
    {
      "cell_type": "code",
      "metadata": {
        "id": "Pew2W4_lPpQw",
        "colab": {
          "base_uri": "https://localhost:8080/"
        },
        "outputId": "7e808785-5528-487c-a2e1-d243d3d556d6"
      },
      "source": [
        "from datetime import  date\n",
        "\n",
        "d1 = date(2001, 4, 18)\n",
        "d2 = date(2092, 7, 3)\n",
        "\n",
        "count = 0\n",
        "\n",
        "for d_ord in range(d1.toordinal(), d2.toordinal()):\n",
        "    d = date.fromordinal(d_ord)\n",
        "    game = str(d).split('-') \n",
        "    if (game[2]=='13' and d.weekday() == 6):\n",
        "        count += 1\n",
        "\n",
        "print(count)"
      ],
      "execution_count": 7,
      "outputs": [
        {
          "output_type": "stream",
          "name": "stdout",
          "text": [
            "157\n"
          ]
        }
      ]
    },
    {
      "cell_type": "markdown",
      "metadata": {
        "id": "P_uRnAmKPpfo"
      },
      "source": [
        "# New Section"
      ]
    },
    {
      "cell_type": "code",
      "metadata": {
        "id": "3HodDS7PPr0R"
      },
      "source": [
        ""
      ],
      "execution_count": null,
      "outputs": []
    },
    {
      "cell_type": "code",
      "metadata": {
        "id": "oAR3btsoPr-h"
      },
      "source": [
        ""
      ],
      "execution_count": null,
      "outputs": []
    }
  ]
}